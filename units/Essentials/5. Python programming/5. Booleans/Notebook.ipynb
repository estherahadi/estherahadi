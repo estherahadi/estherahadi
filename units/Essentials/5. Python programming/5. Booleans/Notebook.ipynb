{
  "cells": [
    {
      "cell_type": "markdown",
      "metadata": {
        "id": "uSuYy6HULWgA"
      },
      "source": [
        "# Booleans and Comparison Operators"
      ]
    },
    {
      "cell_type": "markdown",
      "metadata": {
        "id": "w2HiN847LWgE"
      },
      "source": [
        "## Learning Objectives"
      ]
    },
    {
      "cell_type": "markdown",
      "metadata": {
        "id": "3dDW0nqMLWgF"
      },
      "source": [
        "- Understand the basics of the Boolean data type (bool).\n",
        "- Learn how to use comparison operators.\n",
        "- Learn how to use boolean operators."
      ]
    },
    {
      "cell_type": "markdown",
      "metadata": {
        "id": "0cz6H42yLWgF"
      },
      "source": [
        "Booleans are data forms with only two possible values: `True` or `False`. These are actually Python keywords; therefore, you can create a boolean using them."
      ]
    },
    {
      "cell_type": "code",
      "execution_count": 1,
      "metadata": {
        "id": "HU1ezEU6LWgF",
        "outputId": "613178bb-677b-4213-edab-6f518266f961",
        "colab": {
          "base_uri": "https://localhost:8080/"
        }
      },
      "outputs": [
        {
          "output_type": "execute_result",
          "data": {
            "text/plain": [
              "bool"
            ]
          },
          "metadata": {},
          "execution_count": 1
        }
      ],
      "source": [
        "bool_1 = True\n",
        "bool_2 = False\n",
        "type(bool_1)"
      ]
    },
    {
      "cell_type": "markdown",
      "metadata": {
        "id": "BObpVRaHLWgH"
      },
      "source": [
        "Additionally, it is possible to cast a value into a boolean. Generally, if it is not empty, it will return True; otherwise, it will return False."
      ]
    },
    {
      "cell_type": "code",
      "execution_count": 2,
      "metadata": {
        "id": "UCJ8PhxpLWgI",
        "outputId": "915bf2d8-cc6f-41c7-a2e9-a4c7e7d80696",
        "colab": {
          "base_uri": "https://localhost:8080/"
        }
      },
      "outputs": [
        {
          "output_type": "stream",
          "name": "stdout",
          "text": [
            "True\n",
            "False\n"
          ]
        }
      ],
      "source": [
        "my_str = 'Hello'\n",
        "print(bool(my_str))\n",
        "empty_str = ''\n",
        "print(bool(empty_str))"
      ]
    },
    {
      "cell_type": "markdown",
      "metadata": {
        "id": "9chvhvsqLWgJ"
      },
      "source": [
        "Booleans function in Python as they do in maths. Comparison operators that return booleans based on whether the comparison is true or not: \n",
        "- (<) less than\n",
        "- (>) more than\n",
        "- (<=) less than or equal to\n",
        "- (>=) more than or equal to\n",
        "- (==) equal to (single = is assignment)\n",
        "- (!=) not equal,\n",
        "\n",
        "are used to evaluate equality/inequality.\n",
        "\n",
        "Keywords are employed to chain/modify boolean operators:\n",
        "- and\n",
        "- or\n",
        "- not"
      ]
    },
    {
      "cell_type": "code",
      "execution_count": null,
      "metadata": {
        "id": "grPnIdzALWgL",
        "outputId": "6bb4eb6a-d318-4487-9e1d-20b641924540"
      },
      "outputs": [
        {
          "data": {
            "text/plain": [
              "True"
            ]
          },
          "execution_count": 4,
          "metadata": {},
          "output_type": "execute_result"
        }
      ],
      "source": [
        "1 < 2"
      ]
    },
    {
      "cell_type": "code",
      "execution_count": null,
      "metadata": {
        "id": "QuUAVSCKLWgL",
        "outputId": "191f3852-1f78-4a90-9832-4ab15f1764f0"
      },
      "outputs": [
        {
          "data": {
            "text/plain": [
              "False"
            ]
          },
          "execution_count": 5,
          "metadata": {},
          "output_type": "execute_result"
        }
      ],
      "source": [
        "1 >= 2"
      ]
    },
    {
      "cell_type": "code",
      "execution_count": null,
      "metadata": {
        "id": "VIfSYMbGLWgM",
        "outputId": "41cc9761-ebb7-4ef8-e54e-e0a7b1eaa2ec"
      },
      "outputs": [
        {
          "data": {
            "text/plain": [
              "True"
            ]
          },
          "execution_count": 6,
          "metadata": {},
          "output_type": "execute_result"
        }
      ],
      "source": [
        "# and/or for boolean-comparison chaining.\n",
        "1 < 2 and 10 < 20"
      ]
    },
    {
      "cell_type": "code",
      "execution_count": null,
      "metadata": {
        "id": "3n89d3H2LWgM",
        "outputId": "3f0c337b-5680-49bf-c550-fa99ba7083b9"
      },
      "outputs": [
        {
          "data": {
            "text/plain": [
              "False"
            ]
          },
          "execution_count": 7,
          "metadata": {},
          "output_type": "execute_result"
        }
      ],
      "source": [
        "True and False"
      ]
    },
    {
      "cell_type": "code",
      "execution_count": null,
      "metadata": {
        "id": "-ErdmLDWLWgN",
        "outputId": "962988e3-8867-479c-da46-34d2c734012c"
      },
      "outputs": [
        {
          "data": {
            "text/plain": [
              "True"
            ]
          },
          "execution_count": 8,
          "metadata": {},
          "output_type": "execute_result"
        }
      ],
      "source": [
        "True or False"
      ]
    },
    {
      "cell_type": "code",
      "execution_count": null,
      "metadata": {
        "id": "cIh18Zx9LWgN",
        "outputId": "3d5b711d-59ed-4810-f7d6-911beaec23c4"
      },
      "outputs": [
        {
          "data": {
            "text/plain": [
              "True"
            ]
          },
          "execution_count": 9,
          "metadata": {},
          "output_type": "execute_result"
        }
      ],
      "source": [
        "# and/or for boolean-comparison chaining.\n",
        "25 > 37 or 55 < 100"
      ]
    },
    {
      "cell_type": "code",
      "execution_count": null,
      "metadata": {
        "id": "_AkUj2P7LWgO",
        "outputId": "5c4cd200-f215-4763-8224-f4aff9f12849"
      },
      "outputs": [
        {
          "data": {
            "text/plain": [
              "False"
            ]
          },
          "execution_count": 10,
          "metadata": {},
          "output_type": "execute_result"
        }
      ],
      "source": [
        "# use not to return the opposite boolean.\n",
        "not 100 > 1"
      ]
    },
    {
      "cell_type": "code",
      "execution_count": null,
      "metadata": {
        "id": "iSNHpSPMLWgO",
        "outputId": "d71f7eeb-0e85-4c5b-a9ae-15bcdf5db969"
      },
      "outputs": [
        {
          "name": "stdout",
          "output_type": "stream",
          "text": [
            "False\n",
            "True\n",
            "True\n"
          ]
        }
      ],
      "source": [
        "# use the 'in' keyword to determine if an item is iterable (also works for strings).\n",
        "print(\"x\" in [1,2,3])\n",
        "\n",
        "print(\"x\" in ['x','y','z'])\n",
        "\n",
        "print(\"a\" in \"a world\")"
      ]
    },
    {
      "cell_type": "markdown",
      "metadata": {
        "id": "SeR8eXJ7LWgO"
      },
      "source": [
        "## Conclusion\n",
        "At this point, you should have a good understanding of\n",
        "- the nature of booleans and how to use them.\n",
        "- how to use booleans and logical operators.\n",
        "<br><br>\n",
        "\n"
      ]
    }
  ],
  "metadata": {
    "interpreter": {
      "hash": "beedbe2faf2f7048d727558d0bc3221e7eba2a0b921cac4d4771b2feb8f74b30"
    },
    "kernelspec": {
      "display_name": "Python 3.10.2 64-bit",
      "language": "python",
      "name": "python3"
    },
    "language_info": {
      "codemirror_mode": {
        "name": "ipython",
        "version": 3
      },
      "file_extension": ".py",
      "mimetype": "text/x-python",
      "name": "python",
      "nbconvert_exporter": "python",
      "pygments_lexer": "ipython3",
      "version": "3.10.2"
    },
    "orig_nbformat": 4,
    "colab": {
      "provenance": []
    }
  },
  "nbformat": 4,
  "nbformat_minor": 0
}